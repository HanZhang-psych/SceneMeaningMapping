{
 "cells": [
  {
   "cell_type": "code",
   "execution_count": 1,
   "metadata": {},
   "outputs": [
    {
     "name": "stdout",
     "output_type": "stream",
     "text": [
      "2.7.17 (default, Oct 28 2019, 21:35:07) [MSC v.1500 64 bit (AMD64)]\n"
     ]
    }
   ],
   "source": [
    "import sys\n",
    "print (sys.version)\n",
    "import pandas as pd"
   ]
  },
  {
   "cell_type": "markdown",
   "metadata": {},
   "source": [
    "## Extract patch assignment info"
   ]
  },
  {
   "cell_type": "code",
   "execution_count": 2,
   "metadata": {},
   "outputs": [],
   "source": [
    "# get block info by searching the survey texts\n",
    "\n",
    "import re\n",
    "import os\n",
    "from glob import glob\n",
    "\n",
    "images_path = 'scene_images\\\\*' # path to original scene images\n",
    "survey_path = 'surveys\\\\*\\\\*.txt' # path to generated survey texts\n",
    "url_pattern = r'https://raw.githubusercontent.com/HanZhang-psych/SceneMeaningMapping/master/patch_stimuli/\\S+' # the url pattern to search for in the survey texts\n",
    "\n",
    "image_list = []\n",
    "for p in glob(images_path):\n",
    "    image_list.append(os.path.basename(p)[:-4])\n",
    "    \n",
    "    \n",
    "patch_assign_df = pd.DataFrame()\n",
    "for sur in glob(survey_path):\n",
    "    pics = []\n",
    "    survey_name = int(os.path.basename(sur)[6:-4])\n",
    "    survey_type = sur.split('\\\\')[1]\n",
    "    with open(sur, 'r') as f:\n",
    "        for line in f:\n",
    "            s = re.search(url_pattern, line)\n",
    "            if s is not None:\n",
    "                pic = s.group(0).split('/')[-1][:-1]\n",
    "                pics.append(pic)\n",
    "    df = pd.DataFrame(list(zip(pics, \n",
    "                               range(len(pics)), \n",
    "                               [survey_type]*len(pics), \n",
    "                               [survey_name]*len(pics))),\n",
    "                      columns=['patch','idx','survey_type','survey_name'])\n",
    "    patch_assign_df = patch_assign_df.append(df)"
   ]
  },
  {
   "cell_type": "code",
   "execution_count": 3,
   "metadata": {},
   "outputs": [],
   "source": [
    "# from patch name extract the original pic name\n",
    "def scene_name_from_patch(row):\n",
    "    for i in image_list:\n",
    "        if i in row.patch:\n",
    "            row['scene_name'] = i\n",
    "            row['patch_id'] = int(row.patch.replace(i.split('.')[0],'').split('.')[0])\n",
    "    return row\n",
    "patch_assign_df = patch_assign_df.apply(scene_name_from_patch, axis=1)"
   ]
  },
  {
   "cell_type": "code",
   "execution_count": 4,
   "metadata": {},
   "outputs": [],
   "source": [
    "# sort values \n",
    "patch_assign_df.sort_values(by=['survey_type','survey_name'], inplace=True)"
   ]
  },
  {
   "cell_type": "code",
   "execution_count": 5,
   "metadata": {},
   "outputs": [
    {
     "data": {
      "text/html": [
       "<div>\n",
       "<style scoped>\n",
       "    .dataframe tbody tr th:only-of-type {\n",
       "        vertical-align: middle;\n",
       "    }\n",
       "\n",
       "    .dataframe tbody tr th {\n",
       "        vertical-align: top;\n",
       "    }\n",
       "\n",
       "    .dataframe thead th {\n",
       "        text-align: right;\n",
       "    }\n",
       "</style>\n",
       "<table border=\"1\" class=\"dataframe\">\n",
       "  <thead>\n",
       "    <tr style=\"text-align: right;\">\n",
       "      <th></th>\n",
       "      <th>idx</th>\n",
       "      <th>patch</th>\n",
       "      <th>patch_id</th>\n",
       "      <th>scene_name</th>\n",
       "      <th>survey_name</th>\n",
       "      <th>survey_type</th>\n",
       "    </tr>\n",
       "  </thead>\n",
       "  <tbody>\n",
       "    <tr>\n",
       "      <th>0</th>\n",
       "      <td>0</td>\n",
       "      <td>after_IMG_021317.png</td>\n",
       "      <td>17.0</td>\n",
       "      <td>after_IMG_0213</td>\n",
       "      <td>1</td>\n",
       "      <td>coarse</td>\n",
       "    </tr>\n",
       "    <tr>\n",
       "      <th>1</th>\n",
       "      <td>1</td>\n",
       "      <td>after_sun_awkhwzafhbdrlgkt93.png</td>\n",
       "      <td>93.0</td>\n",
       "      <td>after_sun_awkhwzafhbdrlgkt</td>\n",
       "      <td>1</td>\n",
       "      <td>coarse</td>\n",
       "    </tr>\n",
       "    <tr>\n",
       "      <th>2</th>\n",
       "      <td>2</td>\n",
       "      <td>after_IMG_158153.png</td>\n",
       "      <td>53.0</td>\n",
       "      <td>after_IMG_1581</td>\n",
       "      <td>1</td>\n",
       "      <td>coarse</td>\n",
       "    </tr>\n",
       "    <tr>\n",
       "      <th>3</th>\n",
       "      <td>3</td>\n",
       "      <td>after_img_10078.png</td>\n",
       "      <td>78.0</td>\n",
       "      <td>after_img_100</td>\n",
       "      <td>1</td>\n",
       "      <td>coarse</td>\n",
       "    </tr>\n",
       "    <tr>\n",
       "      <th>4</th>\n",
       "      <td>4</td>\n",
       "      <td>after_sun_awkhwzafhbdrlgkt26.png</td>\n",
       "      <td>26.0</td>\n",
       "      <td>after_sun_awkhwzafhbdrlgkt</td>\n",
       "      <td>1</td>\n",
       "      <td>coarse</td>\n",
       "    </tr>\n",
       "  </tbody>\n",
       "</table>\n",
       "</div>"
      ],
      "text/plain": [
       "   idx                             patch  patch_id  \\\n",
       "0    0              after_IMG_021317.png      17.0   \n",
       "1    1  after_sun_awkhwzafhbdrlgkt93.png      93.0   \n",
       "2    2              after_IMG_158153.png      53.0   \n",
       "3    3               after_img_10078.png      78.0   \n",
       "4    4  after_sun_awkhwzafhbdrlgkt26.png      26.0   \n",
       "\n",
       "                   scene_name  survey_name survey_type  \n",
       "0              after_IMG_0213            1      coarse  \n",
       "1  after_sun_awkhwzafhbdrlgkt            1      coarse  \n",
       "2              after_IMG_1581            1      coarse  \n",
       "3               after_img_100            1      coarse  \n",
       "4  after_sun_awkhwzafhbdrlgkt            1      coarse  "
      ]
     },
     "execution_count": 5,
     "metadata": {},
     "output_type": "execute_result"
    }
   ],
   "source": [
    "patch_assign_df.head()"
   ]
  },
  {
   "cell_type": "markdown",
   "metadata": {},
   "source": [
    "## Read survey: coarse"
   ]
  },
  {
   "cell_type": "code",
   "execution_count": 6,
   "metadata": {},
   "outputs": [],
   "source": [
    "# survey coarse\n",
    "survey_coarse = pd.read_csv('data/coarse/Scene Patch Rating_Coarse_January 20, 2020_11.14.csv',skiprows=[1,2])"
   ]
  },
  {
   "cell_type": "code",
   "execution_count": 7,
   "metadata": {},
   "outputs": [],
   "source": [
    "# remove those who did not sign consent form\n",
    "survey_coarse = survey_coarse[survey_coarse.QID3==1].reset_index(drop=True)"
   ]
  },
  {
   "cell_type": "code",
   "execution_count": 8,
   "metadata": {},
   "outputs": [
    {
     "name": "stdout",
     "output_type": "stream",
     "text": [
      "FL_30_DO\n"
     ]
    }
   ],
   "source": [
    "# identify block assingment \n",
    "var_assign = survey_coarse.columns[-1]\n",
    "print (var_assign)\n",
    "survey_coarse['survey_type'] = survey_coarse[var_assign].apply(lambda x: 'coarse' if 'coarse' in x else 'fine')\n",
    "survey_coarse['survey_name'] = survey_coarse[var_assign].apply(lambda x: int(re.search(r'\\d+', x).group(0)))"
   ]
  },
  {
   "cell_type": "code",
   "execution_count": 9,
   "metadata": {},
   "outputs": [
    {
     "data": {
      "text/plain": [
       "Series([], Name: PROLIFIC_PID, dtype: object)"
      ]
     },
     "execution_count": 9,
     "metadata": {},
     "output_type": "execute_result"
    }
   ],
   "source": [
    "# check ip address duplicates\n",
    "survey_coarse[survey_coarse.IPAddress.duplicated()].PROLIFIC_PID"
   ]
  },
  {
   "cell_type": "code",
   "execution_count": 10,
   "metadata": {},
   "outputs": [],
   "source": [
    "# check if have complete data (320 ratings)\n",
    "surv_rating = survey_coarse[survey_coarse.columns[survey_coarse.columns.str.contains('QID')][1:]]\n",
    "\n",
    "# coasre mask: note that the coarse 13 has 308 ratings\n",
    "complete_mask = (surv_rating.count(axis=1) == 320) | (surv_rating.count(axis=1) == 308)\n",
    "incomplete_mask = (surv_rating.count(axis=1) != 320) & (surv_rating.count(axis=1) != 308)\n",
    "\n",
    "completed_subs = survey_coarse[complete_mask].PROLIFIC_PID.tolist()\n",
    "incompleted_subs = survey_coarse[incomplete_mask].PROLIFIC_PID.tolist()"
   ]
  },
  {
   "cell_type": "code",
   "execution_count": 11,
   "metadata": {},
   "outputs": [
    {
     "data": {
      "text/plain": [
       "[]"
      ]
     },
     "execution_count": 11,
     "metadata": {},
     "output_type": "execute_result"
    }
   ],
   "source": [
    "incompleted_subs "
   ]
  },
  {
   "cell_type": "code",
   "execution_count": 12,
   "metadata": {},
   "outputs": [],
   "source": [
    "# rename survey column names\n",
    "# coarse 1-13\n",
    "new_colnames = patch_assign_df[patch_assign_df.survey_type=='coarse'].survey_name.astype(str)+':'+ patch_assign_df[patch_assign_df.survey_type=='coarse'].patch"
   ]
  },
  {
   "cell_type": "code",
   "execution_count": 13,
   "metadata": {},
   "outputs": [],
   "source": [
    "column_dict = dict(zip(surv_rating.columns,new_colnames.tolist()))\n",
    "survey_coarse.rename(columns=column_dict, inplace=True)"
   ]
  },
  {
   "cell_type": "code",
   "execution_count": 14,
   "metadata": {},
   "outputs": [
    {
     "name": "stdout",
     "output_type": "stream",
     "text": [
      "['599bf0606c165e000113fe27']\n"
     ]
    }
   ],
   "source": [
    "# compute catch trial ratings to identify spammers\n",
    "survey_coarse['catch_ratings'] = survey_coarse[survey_coarse.columns[survey_coarse.columns.str.contains('catch')]].mean(axis=1)\n",
    "spammers = survey_coarse[survey_coarse['catch_ratings']>1.5].PROLIFIC_PID.tolist()\n",
    "print (spammers)"
   ]
  },
  {
   "cell_type": "code",
   "execution_count": 15,
   "metadata": {},
   "outputs": [],
   "source": [
    "# get a list of approved subs\n",
    "approved_subs = []\n",
    "for i in completed_subs:\n",
    "    if i not in spammers:\n",
    "        approved_subs.append(i)\n",
    "        \n",
    "#for i in approved_subs:\n",
    "#    print i"
   ]
  },
  {
   "cell_type": "code",
   "execution_count": 16,
   "metadata": {},
   "outputs": [
    {
     "data": {
      "text/plain": [
       "survey_type  survey_name\n",
       "coarse       1              3\n",
       "             2              3\n",
       "             3              3\n",
       "             4              3\n",
       "             5              3\n",
       "             6              3\n",
       "             7              3\n",
       "             8              3\n",
       "             9              3\n",
       "             10             3\n",
       "             11             3\n",
       "             12             4\n",
       "             13             3\n",
       "Name: PROLIFIC_PID, dtype: int64"
      ]
     },
     "execution_count": 16,
     "metadata": {},
     "output_type": "execute_result"
    }
   ],
   "source": [
    "# rolling back qualtrics randomizer\n",
    "survey_coarse[survey_coarse.PROLIFIC_PID.isin(approved_subs)].groupby(['survey_type','survey_name']).PROLIFIC_PID.count()"
   ]
  },
  {
   "cell_type": "code",
   "execution_count": 17,
   "metadata": {},
   "outputs": [],
   "source": [
    "# get valid subjects\n",
    "valid_survey_coarse = survey_coarse[survey_coarse.PROLIFIC_PID.isin(approved_subs)].reset_index(drop=True)\n",
    "# get useful cols\n",
    "valid_survey_coarse = valid_survey_coarse[['PROLIFIC_PID','survey_type','survey_name']+ list(column_dict.values())]\n",
    "# sort by survey\n",
    "valid_survey_coarse.sort_values(by=['survey_type','survey_name'], inplace=True)"
   ]
  },
  {
   "cell_type": "code",
   "execution_count": 18,
   "metadata": {},
   "outputs": [
    {
     "data": {
      "text/html": [
       "<div>\n",
       "<style scoped>\n",
       "    .dataframe tbody tr th:only-of-type {\n",
       "        vertical-align: middle;\n",
       "    }\n",
       "\n",
       "    .dataframe tbody tr th {\n",
       "        vertical-align: top;\n",
       "    }\n",
       "\n",
       "    .dataframe thead th {\n",
       "        text-align: right;\n",
       "    }\n",
       "</style>\n",
       "<table border=\"1\" class=\"dataframe\">\n",
       "  <thead>\n",
       "    <tr style=\"text-align: right;\">\n",
       "      <th></th>\n",
       "      <th>PROLIFIC_PID</th>\n",
       "      <th>survey_type</th>\n",
       "      <th>survey_name</th>\n",
       "      <th>6:after_sun_awqxiwmqccwmgejq108.png</th>\n",
       "      <th>9:after_img_11495.png</th>\n",
       "      <th>8:after_dsc0716988.png</th>\n",
       "      <th>10:after_sun_axarcshsnqsefemx47.png</th>\n",
       "      <th>6:after_img_089101.png</th>\n",
       "      <th>13:after_sun_aalbxgjwijppgzjr54.png</th>\n",
       "      <th>6:after_IMG_312481.png</th>\n",
       "      <th>...</th>\n",
       "      <th>10:after_sun_atyasoydrjavyfux-023.png</th>\n",
       "      <th>13:after_img_09447.png</th>\n",
       "      <th>5:after_sun_awqxiwmqccwmgejq63.png</th>\n",
       "      <th>11:after_img_09552.png</th>\n",
       "      <th>4:after_sun_axftyltjljtworuj27.png</th>\n",
       "      <th>3:after_img_11468.png</th>\n",
       "      <th>7:after_IMG_0626107.png</th>\n",
       "      <th>11:coarse_catch17.png</th>\n",
       "      <th>3:after_sun_abzaicgobhjswlxg47.png</th>\n",
       "      <th>6:after_sun_aawvoklsoluipehz106.png</th>\n",
       "    </tr>\n",
       "  </thead>\n",
       "  <tbody>\n",
       "    <tr>\n",
       "      <th>5</th>\n",
       "      <td>548491acfdf99b0379939cc0</td>\n",
       "      <td>coarse</td>\n",
       "      <td>1</td>\n",
       "      <td>NaN</td>\n",
       "      <td>NaN</td>\n",
       "      <td>NaN</td>\n",
       "      <td>NaN</td>\n",
       "      <td>NaN</td>\n",
       "      <td>NaN</td>\n",
       "      <td>NaN</td>\n",
       "      <td>...</td>\n",
       "      <td>NaN</td>\n",
       "      <td>NaN</td>\n",
       "      <td>NaN</td>\n",
       "      <td>NaN</td>\n",
       "      <td>NaN</td>\n",
       "      <td>NaN</td>\n",
       "      <td>NaN</td>\n",
       "      <td>NaN</td>\n",
       "      <td>NaN</td>\n",
       "      <td>NaN</td>\n",
       "    </tr>\n",
       "    <tr>\n",
       "      <th>17</th>\n",
       "      <td>5a2e19cca3a512000195866a</td>\n",
       "      <td>coarse</td>\n",
       "      <td>1</td>\n",
       "      <td>NaN</td>\n",
       "      <td>NaN</td>\n",
       "      <td>NaN</td>\n",
       "      <td>NaN</td>\n",
       "      <td>NaN</td>\n",
       "      <td>NaN</td>\n",
       "      <td>NaN</td>\n",
       "      <td>...</td>\n",
       "      <td>NaN</td>\n",
       "      <td>NaN</td>\n",
       "      <td>NaN</td>\n",
       "      <td>NaN</td>\n",
       "      <td>NaN</td>\n",
       "      <td>NaN</td>\n",
       "      <td>NaN</td>\n",
       "      <td>NaN</td>\n",
       "      <td>NaN</td>\n",
       "      <td>NaN</td>\n",
       "    </tr>\n",
       "    <tr>\n",
       "      <th>32</th>\n",
       "      <td>5c2a2f5e10677f0001dc449f</td>\n",
       "      <td>coarse</td>\n",
       "      <td>1</td>\n",
       "      <td>NaN</td>\n",
       "      <td>NaN</td>\n",
       "      <td>NaN</td>\n",
       "      <td>NaN</td>\n",
       "      <td>NaN</td>\n",
       "      <td>NaN</td>\n",
       "      <td>NaN</td>\n",
       "      <td>...</td>\n",
       "      <td>NaN</td>\n",
       "      <td>NaN</td>\n",
       "      <td>NaN</td>\n",
       "      <td>NaN</td>\n",
       "      <td>NaN</td>\n",
       "      <td>NaN</td>\n",
       "      <td>NaN</td>\n",
       "      <td>NaN</td>\n",
       "      <td>NaN</td>\n",
       "      <td>NaN</td>\n",
       "    </tr>\n",
       "    <tr>\n",
       "      <th>4</th>\n",
       "      <td>597eafed2351f10001590837</td>\n",
       "      <td>coarse</td>\n",
       "      <td>2</td>\n",
       "      <td>NaN</td>\n",
       "      <td>NaN</td>\n",
       "      <td>NaN</td>\n",
       "      <td>NaN</td>\n",
       "      <td>NaN</td>\n",
       "      <td>NaN</td>\n",
       "      <td>NaN</td>\n",
       "      <td>...</td>\n",
       "      <td>NaN</td>\n",
       "      <td>NaN</td>\n",
       "      <td>NaN</td>\n",
       "      <td>NaN</td>\n",
       "      <td>NaN</td>\n",
       "      <td>NaN</td>\n",
       "      <td>NaN</td>\n",
       "      <td>NaN</td>\n",
       "      <td>NaN</td>\n",
       "      <td>NaN</td>\n",
       "    </tr>\n",
       "    <tr>\n",
       "      <th>13</th>\n",
       "      <td>5a6148b363394a00015533d6</td>\n",
       "      <td>coarse</td>\n",
       "      <td>2</td>\n",
       "      <td>NaN</td>\n",
       "      <td>NaN</td>\n",
       "      <td>NaN</td>\n",
       "      <td>NaN</td>\n",
       "      <td>NaN</td>\n",
       "      <td>NaN</td>\n",
       "      <td>NaN</td>\n",
       "      <td>...</td>\n",
       "      <td>NaN</td>\n",
       "      <td>NaN</td>\n",
       "      <td>NaN</td>\n",
       "      <td>NaN</td>\n",
       "      <td>NaN</td>\n",
       "      <td>NaN</td>\n",
       "      <td>NaN</td>\n",
       "      <td>NaN</td>\n",
       "      <td>NaN</td>\n",
       "      <td>NaN</td>\n",
       "    </tr>\n",
       "  </tbody>\n",
       "</table>\n",
       "<p>5 rows × 4151 columns</p>\n",
       "</div>"
      ],
      "text/plain": [
       "                PROLIFIC_PID survey_type  survey_name  \\\n",
       "5   548491acfdf99b0379939cc0      coarse            1   \n",
       "17  5a2e19cca3a512000195866a      coarse            1   \n",
       "32  5c2a2f5e10677f0001dc449f      coarse            1   \n",
       "4   597eafed2351f10001590837      coarse            2   \n",
       "13  5a6148b363394a00015533d6      coarse            2   \n",
       "\n",
       "    6:after_sun_awqxiwmqccwmgejq108.png  9:after_img_11495.png  \\\n",
       "5                                   NaN                    NaN   \n",
       "17                                  NaN                    NaN   \n",
       "32                                  NaN                    NaN   \n",
       "4                                   NaN                    NaN   \n",
       "13                                  NaN                    NaN   \n",
       "\n",
       "    8:after_dsc0716988.png  10:after_sun_axarcshsnqsefemx47.png  \\\n",
       "5                      NaN                                  NaN   \n",
       "17                     NaN                                  NaN   \n",
       "32                     NaN                                  NaN   \n",
       "4                      NaN                                  NaN   \n",
       "13                     NaN                                  NaN   \n",
       "\n",
       "    6:after_img_089101.png  13:after_sun_aalbxgjwijppgzjr54.png  \\\n",
       "5                      NaN                                  NaN   \n",
       "17                     NaN                                  NaN   \n",
       "32                     NaN                                  NaN   \n",
       "4                      NaN                                  NaN   \n",
       "13                     NaN                                  NaN   \n",
       "\n",
       "    6:after_IMG_312481.png  ...  10:after_sun_atyasoydrjavyfux-023.png  \\\n",
       "5                      NaN  ...                                    NaN   \n",
       "17                     NaN  ...                                    NaN   \n",
       "32                     NaN  ...                                    NaN   \n",
       "4                      NaN  ...                                    NaN   \n",
       "13                     NaN  ...                                    NaN   \n",
       "\n",
       "    13:after_img_09447.png  5:after_sun_awqxiwmqccwmgejq63.png  \\\n",
       "5                      NaN                                 NaN   \n",
       "17                     NaN                                 NaN   \n",
       "32                     NaN                                 NaN   \n",
       "4                      NaN                                 NaN   \n",
       "13                     NaN                                 NaN   \n",
       "\n",
       "    11:after_img_09552.png  4:after_sun_axftyltjljtworuj27.png  \\\n",
       "5                      NaN                                 NaN   \n",
       "17                     NaN                                 NaN   \n",
       "32                     NaN                                 NaN   \n",
       "4                      NaN                                 NaN   \n",
       "13                     NaN                                 NaN   \n",
       "\n",
       "    3:after_img_11468.png  7:after_IMG_0626107.png  11:coarse_catch17.png  \\\n",
       "5                     NaN                      NaN                    NaN   \n",
       "17                    NaN                      NaN                    NaN   \n",
       "32                    NaN                      NaN                    NaN   \n",
       "4                     NaN                      NaN                    NaN   \n",
       "13                    NaN                      NaN                    NaN   \n",
       "\n",
       "    3:after_sun_abzaicgobhjswlxg47.png  6:after_sun_aawvoklsoluipehz106.png  \n",
       "5                                  NaN                                  NaN  \n",
       "17                                 NaN                                  NaN  \n",
       "32                                 NaN                                  NaN  \n",
       "4                                  NaN                                  NaN  \n",
       "13                                 NaN                                  NaN  \n",
       "\n",
       "[5 rows x 4151 columns]"
      ]
     },
     "execution_count": 18,
     "metadata": {},
     "output_type": "execute_result"
    }
   ],
   "source": [
    "valid_survey_coarse.head()"
   ]
  },
  {
   "cell_type": "markdown",
   "metadata": {},
   "source": [
    "## Read survey: Fine (1-24)"
   ]
  },
  {
   "cell_type": "code",
   "execution_count": 19,
   "metadata": {},
   "outputs": [],
   "source": [
    "# survey fine\n",
    "survey_fine1 = pd.read_csv('data/fine/Scene Patch Rating - Fine (1 - 24)_January 23, 2020_10.22.csv',skiprows=[1,2])"
   ]
  },
  {
   "cell_type": "code",
   "execution_count": 20,
   "metadata": {},
   "outputs": [],
   "source": [
    "# remove those who did not sign consent form\n",
    "survey_fine1 = survey_fine1[survey_fine1.QID325==1].reset_index(drop=True)"
   ]
  },
  {
   "cell_type": "code",
   "execution_count": 21,
   "metadata": {},
   "outputs": [
    {
     "name": "stdout",
     "output_type": "stream",
     "text": [
      "FL_45_DO\n"
     ]
    }
   ],
   "source": [
    "# identify block assingment \n",
    "var_assign = survey_fine1.columns[-1]\n",
    "print (var_assign)\n",
    "survey_fine1['survey_type'] = survey_fine1[var_assign].apply(lambda x: 'coarse' if 'coarse' in x else 'fine')\n",
    "survey_fine1['survey_name'] = survey_fine1[var_assign].apply(lambda x: int(re.search(r'\\d+', x).group(0)))"
   ]
  },
  {
   "cell_type": "code",
   "execution_count": 22,
   "metadata": {},
   "outputs": [
    {
     "data": {
      "text/plain": [
       "Series([], Name: PROLIFIC_PID, dtype: object)"
      ]
     },
     "execution_count": 22,
     "metadata": {},
     "output_type": "execute_result"
    }
   ],
   "source": [
    "# check ip address duplicates\n",
    "survey_fine1[survey_fine1.IPAddress.duplicated()].PROLIFIC_PID"
   ]
  },
  {
   "cell_type": "code",
   "execution_count": 23,
   "metadata": {},
   "outputs": [],
   "source": [
    "# check if have complete data (320 ratings)\n",
    "surv_rating = survey_fine1[survey_fine1.columns[survey_fine1.columns.str.contains('QID')][1:]]\n",
    "\n",
    "# fine mask\n",
    "complete_mask = (surv_rating.count(axis=1) == 320)\n",
    "incomplete_mask = (surv_rating.count(axis=1) != 320)\n",
    "\n",
    "completed_subs = survey_fine1[complete_mask].PROLIFIC_PID.tolist()\n",
    "incompleted_subs = survey_fine1[incomplete_mask].PROLIFIC_PID.tolist()"
   ]
  },
  {
   "cell_type": "code",
   "execution_count": 24,
   "metadata": {
    "scrolled": true
   },
   "outputs": [
    {
     "data": {
      "text/plain": [
       "['5d118de2c80b57001721f93e',\n",
       " '5d404bc74db54a0001fecb92',\n",
       " '5d93f4f22bde0400161aca3f',\n",
       " '5d3108926f0585001a7d0cc1']"
      ]
     },
     "execution_count": 24,
     "metadata": {},
     "output_type": "execute_result"
    }
   ],
   "source": [
    "incompleted_subs "
   ]
  },
  {
   "cell_type": "code",
   "execution_count": 25,
   "metadata": {},
   "outputs": [],
   "source": [
    "# rename survey column names\n",
    "\n",
    "# fine < 25\n",
    "new_colnames = patch_assign_df[(patch_assign_df.survey_name<25)&(patch_assign_df.survey_type=='fine')].survey_name.astype(str)+':'+ patch_assign_df[(patch_assign_df.survey_name<25)&(patch_assign_df.survey_type=='fine')].patch"
   ]
  },
  {
   "cell_type": "code",
   "execution_count": 26,
   "metadata": {},
   "outputs": [],
   "source": [
    "column_dict = dict(zip(surv_rating.columns,new_colnames.tolist()))\n",
    "survey_fine1.rename(columns=column_dict, inplace=True)"
   ]
  },
  {
   "cell_type": "code",
   "execution_count": 27,
   "metadata": {},
   "outputs": [],
   "source": [
    "survey_fine1['catch_ratings'] = survey_fine1[survey_fine1.columns[survey_fine1.columns.str.contains('catch')]].mean(axis=1)"
   ]
  },
  {
   "cell_type": "code",
   "execution_count": 28,
   "metadata": {},
   "outputs": [
    {
     "name": "stdout",
     "output_type": "stream",
     "text": [
      "['5d118de2c80b57001721f93e', '59c6305e6a287600011c388d', '5dc59df162ec5041c3e8807a', '5d6394518df2870001a74b42']\n"
     ]
    }
   ],
   "source": [
    "spammers = survey_fine1[survey_fine1['catch_ratings']>1.5].PROLIFIC_PID.tolist()\n",
    "print (spammers)"
   ]
  },
  {
   "cell_type": "code",
   "execution_count": 29,
   "metadata": {},
   "outputs": [],
   "source": [
    "# get a list of approved subs\n",
    "approved_subs = []\n",
    "for i in completed_subs:\n",
    "    if i not in spammers:\n",
    "        approved_subs.append(i)\n",
    "        \n",
    "#for i in approved_subs:\n",
    "#    print i"
   ]
  },
  {
   "cell_type": "code",
   "execution_count": 30,
   "metadata": {},
   "outputs": [
    {
     "data": {
      "text/plain": [
       "survey_type  survey_name\n",
       "fine         1              3\n",
       "             2              3\n",
       "             3              3\n",
       "             4              4\n",
       "             5              3\n",
       "             6              3\n",
       "             7              3\n",
       "             8              3\n",
       "             9              3\n",
       "             10             3\n",
       "             11             3\n",
       "             12             3\n",
       "             13             4\n",
       "             14             4\n",
       "             15             3\n",
       "             16             3\n",
       "             17             3\n",
       "             18             3\n",
       "             19             3\n",
       "             20             3\n",
       "             21             3\n",
       "             22             3\n",
       "             23             3\n",
       "             24             4\n",
       "Name: PROLIFIC_PID, dtype: int64"
      ]
     },
     "execution_count": 30,
     "metadata": {},
     "output_type": "execute_result"
    }
   ],
   "source": [
    "# rolling back qualtrics randomizer\n",
    "survey_fine1[survey_fine1.PROLIFIC_PID.isin(approved_subs)].groupby(['survey_type','survey_name']).PROLIFIC_PID.count()"
   ]
  },
  {
   "cell_type": "code",
   "execution_count": 31,
   "metadata": {},
   "outputs": [],
   "source": [
    "# get valid subjects\n",
    "valid_survey_fine1 = survey_fine1[survey_fine1.PROLIFIC_PID.isin(approved_subs)].reset_index(drop=True)\n",
    "# get useful cols\n",
    "valid_survey_fine1 = valid_survey_fine1[['PROLIFIC_PID','survey_type','survey_name']+list(column_dict.values())]\n",
    "# sort by survey\n",
    "valid_survey_fine1.sort_values(by=['survey_type','survey_name'], inplace=True)"
   ]
  },
  {
   "cell_type": "code",
   "execution_count": 32,
   "metadata": {},
   "outputs": [
    {
     "data": {
      "text/html": [
       "<div>\n",
       "<style scoped>\n",
       "    .dataframe tbody tr th:only-of-type {\n",
       "        vertical-align: middle;\n",
       "    }\n",
       "\n",
       "    .dataframe tbody tr th {\n",
       "        vertical-align: top;\n",
       "    }\n",
       "\n",
       "    .dataframe thead th {\n",
       "        text-align: right;\n",
       "    }\n",
       "</style>\n",
       "<table border=\"1\" class=\"dataframe\">\n",
       "  <thead>\n",
       "    <tr style=\"text-align: right;\">\n",
       "      <th></th>\n",
       "      <th>PROLIFIC_PID</th>\n",
       "      <th>survey_type</th>\n",
       "      <th>survey_name</th>\n",
       "      <th>5:fine_catch7.png</th>\n",
       "      <th>11:after_sun_ahvszpwjtodgwusx33.png</th>\n",
       "      <th>1:after_dsc07169248.png</th>\n",
       "      <th>21:after_sun_asrhohyqzajswxsa116.png</th>\n",
       "      <th>4:after_img_125180.png</th>\n",
       "      <th>15:after_img_111136.png</th>\n",
       "      <th>12:after_sun_awqxiwmqccwmgejq251.png</th>\n",
       "      <th>...</th>\n",
       "      <th>18:after_sun_aafqetztbkmzxsif241.png</th>\n",
       "      <th>21:after_img_09613.png</th>\n",
       "      <th>3:after_IMG_158110.png</th>\n",
       "      <th>8:after_img_125195.png</th>\n",
       "      <th>16:after_IMG_1581112.png</th>\n",
       "      <th>2:after_img_089186.png</th>\n",
       "      <th>18:after_img_096161.png</th>\n",
       "      <th>15:after_sun_axftyltjljtworuj296.png</th>\n",
       "      <th>11:after_IMG_709665.png</th>\n",
       "      <th>20:after_img_025127.png</th>\n",
       "    </tr>\n",
       "  </thead>\n",
       "  <tbody>\n",
       "    <tr>\n",
       "      <th>13</th>\n",
       "      <td>5c525573f3001c000124e4cb</td>\n",
       "      <td>fine</td>\n",
       "      <td>1</td>\n",
       "      <td>NaN</td>\n",
       "      <td>NaN</td>\n",
       "      <td>4.0</td>\n",
       "      <td>NaN</td>\n",
       "      <td>NaN</td>\n",
       "      <td>NaN</td>\n",
       "      <td>NaN</td>\n",
       "      <td>...</td>\n",
       "      <td>NaN</td>\n",
       "      <td>NaN</td>\n",
       "      <td>NaN</td>\n",
       "      <td>NaN</td>\n",
       "      <td>NaN</td>\n",
       "      <td>NaN</td>\n",
       "      <td>NaN</td>\n",
       "      <td>NaN</td>\n",
       "      <td>NaN</td>\n",
       "      <td>NaN</td>\n",
       "    </tr>\n",
       "    <tr>\n",
       "      <th>48</th>\n",
       "      <td>5d4b6bfb0cf3e60001d88c23</td>\n",
       "      <td>fine</td>\n",
       "      <td>1</td>\n",
       "      <td>NaN</td>\n",
       "      <td>NaN</td>\n",
       "      <td>4.0</td>\n",
       "      <td>NaN</td>\n",
       "      <td>NaN</td>\n",
       "      <td>NaN</td>\n",
       "      <td>NaN</td>\n",
       "      <td>...</td>\n",
       "      <td>NaN</td>\n",
       "      <td>NaN</td>\n",
       "      <td>NaN</td>\n",
       "      <td>NaN</td>\n",
       "      <td>NaN</td>\n",
       "      <td>NaN</td>\n",
       "      <td>NaN</td>\n",
       "      <td>NaN</td>\n",
       "      <td>NaN</td>\n",
       "      <td>NaN</td>\n",
       "    </tr>\n",
       "    <tr>\n",
       "      <th>65</th>\n",
       "      <td>5d61c17892a38a0001d83e30</td>\n",
       "      <td>fine</td>\n",
       "      <td>1</td>\n",
       "      <td>NaN</td>\n",
       "      <td>NaN</td>\n",
       "      <td>3.0</td>\n",
       "      <td>NaN</td>\n",
       "      <td>NaN</td>\n",
       "      <td>NaN</td>\n",
       "      <td>NaN</td>\n",
       "      <td>...</td>\n",
       "      <td>NaN</td>\n",
       "      <td>NaN</td>\n",
       "      <td>NaN</td>\n",
       "      <td>NaN</td>\n",
       "      <td>NaN</td>\n",
       "      <td>NaN</td>\n",
       "      <td>NaN</td>\n",
       "      <td>NaN</td>\n",
       "      <td>NaN</td>\n",
       "      <td>NaN</td>\n",
       "    </tr>\n",
       "    <tr>\n",
       "      <th>22</th>\n",
       "      <td>5b0b8ae7d282ff00015b774e</td>\n",
       "      <td>fine</td>\n",
       "      <td>2</td>\n",
       "      <td>NaN</td>\n",
       "      <td>NaN</td>\n",
       "      <td>NaN</td>\n",
       "      <td>NaN</td>\n",
       "      <td>NaN</td>\n",
       "      <td>NaN</td>\n",
       "      <td>NaN</td>\n",
       "      <td>...</td>\n",
       "      <td>NaN</td>\n",
       "      <td>NaN</td>\n",
       "      <td>NaN</td>\n",
       "      <td>NaN</td>\n",
       "      <td>NaN</td>\n",
       "      <td>3.0</td>\n",
       "      <td>NaN</td>\n",
       "      <td>NaN</td>\n",
       "      <td>NaN</td>\n",
       "      <td>NaN</td>\n",
       "    </tr>\n",
       "    <tr>\n",
       "      <th>38</th>\n",
       "      <td>5cf0a3707c82b6000138026a</td>\n",
       "      <td>fine</td>\n",
       "      <td>2</td>\n",
       "      <td>NaN</td>\n",
       "      <td>NaN</td>\n",
       "      <td>NaN</td>\n",
       "      <td>NaN</td>\n",
       "      <td>NaN</td>\n",
       "      <td>NaN</td>\n",
       "      <td>NaN</td>\n",
       "      <td>...</td>\n",
       "      <td>NaN</td>\n",
       "      <td>NaN</td>\n",
       "      <td>NaN</td>\n",
       "      <td>NaN</td>\n",
       "      <td>NaN</td>\n",
       "      <td>4.0</td>\n",
       "      <td>NaN</td>\n",
       "      <td>NaN</td>\n",
       "      <td>NaN</td>\n",
       "      <td>NaN</td>\n",
       "    </tr>\n",
       "  </tbody>\n",
       "</table>\n",
       "<p>5 rows × 7683 columns</p>\n",
       "</div>"
      ],
      "text/plain": [
       "                PROLIFIC_PID survey_type  survey_name  5:fine_catch7.png  \\\n",
       "13  5c525573f3001c000124e4cb        fine            1                NaN   \n",
       "48  5d4b6bfb0cf3e60001d88c23        fine            1                NaN   \n",
       "65  5d61c17892a38a0001d83e30        fine            1                NaN   \n",
       "22  5b0b8ae7d282ff00015b774e        fine            2                NaN   \n",
       "38  5cf0a3707c82b6000138026a        fine            2                NaN   \n",
       "\n",
       "    11:after_sun_ahvszpwjtodgwusx33.png  1:after_dsc07169248.png  \\\n",
       "13                                  NaN                      4.0   \n",
       "48                                  NaN                      4.0   \n",
       "65                                  NaN                      3.0   \n",
       "22                                  NaN                      NaN   \n",
       "38                                  NaN                      NaN   \n",
       "\n",
       "    21:after_sun_asrhohyqzajswxsa116.png  4:after_img_125180.png  \\\n",
       "13                                   NaN                     NaN   \n",
       "48                                   NaN                     NaN   \n",
       "65                                   NaN                     NaN   \n",
       "22                                   NaN                     NaN   \n",
       "38                                   NaN                     NaN   \n",
       "\n",
       "    15:after_img_111136.png  12:after_sun_awqxiwmqccwmgejq251.png  ...  \\\n",
       "13                      NaN                                   NaN  ...   \n",
       "48                      NaN                                   NaN  ...   \n",
       "65                      NaN                                   NaN  ...   \n",
       "22                      NaN                                   NaN  ...   \n",
       "38                      NaN                                   NaN  ...   \n",
       "\n",
       "    18:after_sun_aafqetztbkmzxsif241.png  21:after_img_09613.png  \\\n",
       "13                                   NaN                     NaN   \n",
       "48                                   NaN                     NaN   \n",
       "65                                   NaN                     NaN   \n",
       "22                                   NaN                     NaN   \n",
       "38                                   NaN                     NaN   \n",
       "\n",
       "    3:after_IMG_158110.png  8:after_img_125195.png  16:after_IMG_1581112.png  \\\n",
       "13                     NaN                     NaN                       NaN   \n",
       "48                     NaN                     NaN                       NaN   \n",
       "65                     NaN                     NaN                       NaN   \n",
       "22                     NaN                     NaN                       NaN   \n",
       "38                     NaN                     NaN                       NaN   \n",
       "\n",
       "    2:after_img_089186.png  18:after_img_096161.png  \\\n",
       "13                     NaN                      NaN   \n",
       "48                     NaN                      NaN   \n",
       "65                     NaN                      NaN   \n",
       "22                     3.0                      NaN   \n",
       "38                     4.0                      NaN   \n",
       "\n",
       "    15:after_sun_axftyltjljtworuj296.png  11:after_IMG_709665.png  \\\n",
       "13                                   NaN                      NaN   \n",
       "48                                   NaN                      NaN   \n",
       "65                                   NaN                      NaN   \n",
       "22                                   NaN                      NaN   \n",
       "38                                   NaN                      NaN   \n",
       "\n",
       "    20:after_img_025127.png  \n",
       "13                      NaN  \n",
       "48                      NaN  \n",
       "65                      NaN  \n",
       "22                      NaN  \n",
       "38                      NaN  \n",
       "\n",
       "[5 rows x 7683 columns]"
      ]
     },
     "execution_count": 32,
     "metadata": {},
     "output_type": "execute_result"
    }
   ],
   "source": [
    "valid_survey_fine1.head()"
   ]
  },
  {
   "cell_type": "markdown",
   "metadata": {},
   "source": [
    "## Read survey: Fine 25-36"
   ]
  },
  {
   "cell_type": "code",
   "execution_count": 33,
   "metadata": {},
   "outputs": [],
   "source": [
    "# survey fine\n",
    "survey_fine2 = pd.read_csv('data/fine/Scene Patch Rating - Fine (25-36)_January 21, 2020_01.05.csv',skiprows=[1,2])"
   ]
  },
  {
   "cell_type": "code",
   "execution_count": 34,
   "metadata": {},
   "outputs": [],
   "source": [
    "# remove those who did not sign consent form\n",
    "survey_fine2 = survey_fine2[survey_fine2.QID3==1].reset_index(drop=True)"
   ]
  },
  {
   "cell_type": "code",
   "execution_count": 35,
   "metadata": {},
   "outputs": [
    {
     "name": "stdout",
     "output_type": "stream",
     "text": [
      "FL_28_DO\n"
     ]
    }
   ],
   "source": [
    "# identify block assingment \n",
    "var_assign = survey_fine2.columns[-1]\n",
    "print (var_assign)\n",
    "survey_fine2['survey_type'] = survey_fine2[var_assign].apply(lambda x: 'coarse' if 'coarse' in x else 'fine')\n",
    "survey_fine2['survey_name'] = survey_fine2[var_assign].apply(lambda x: int(re.search(r'\\d+', x).group(0)))"
   ]
  },
  {
   "cell_type": "code",
   "execution_count": 36,
   "metadata": {},
   "outputs": [
    {
     "data": {
      "text/plain": [
       "Series([], Name: PROLIFIC_PID, dtype: object)"
      ]
     },
     "execution_count": 36,
     "metadata": {},
     "output_type": "execute_result"
    }
   ],
   "source": [
    "# check ip address duplicates\n",
    "survey_fine2[survey_fine2.IPAddress.duplicated()].PROLIFIC_PID"
   ]
  },
  {
   "cell_type": "code",
   "execution_count": 37,
   "metadata": {},
   "outputs": [],
   "source": [
    "# check if have complete data (320 ratings)\n",
    "surv_rating = survey_fine2[survey_fine2.columns[survey_fine2.columns.str.contains('QID')][1:]]\n",
    "\n",
    "# fine mask\n",
    "complete_mask = (surv_rating.count(axis=1) == 320)\n",
    "incomplete_mask = (surv_rating.count(axis=1) != 320)\n",
    "\n",
    "completed_subs = survey_fine2[complete_mask].PROLIFIC_PID.tolist()\n",
    "incompleted_subs = survey_fine2[incomplete_mask].PROLIFIC_PID.tolist()"
   ]
  },
  {
   "cell_type": "code",
   "execution_count": 38,
   "metadata": {},
   "outputs": [
    {
     "data": {
      "text/plain": [
       "['5aea351112ed990001f873c3',\n",
       " '5a11e6eb30ad7f0001b6ca86',\n",
       " '5b8f08cbb007ed0001aaa0bd',\n",
       " '5c340181938e730001af10b5',\n",
       " '5abfe64d436f550001ffad93',\n",
       " '5ad0172da010190001b35148',\n",
       " '5c10e8870c0a040001fe7b86',\n",
       " '5b9b4cc406114100010660f0',\n",
       " '5b7d28b6c4e6ad0001d37b68',\n",
       " '5d98fd7c3e7d4c03d2a533ae']"
      ]
     },
     "execution_count": 38,
     "metadata": {},
     "output_type": "execute_result"
    }
   ],
   "source": [
    "incompleted_subs "
   ]
  },
  {
   "cell_type": "code",
   "execution_count": 39,
   "metadata": {},
   "outputs": [],
   "source": [
    "# rename survey column names\n",
    "\n",
    "# fine >= 25\n",
    "new_colnames = patch_assign_df[(patch_assign_df.survey_name>=25)&(patch_assign_df.survey_type=='fine')].survey_name.astype(str)+':'+ patch_assign_df[(patch_assign_df.survey_name>=25)&(patch_assign_df.survey_type=='fine')].patch"
   ]
  },
  {
   "cell_type": "code",
   "execution_count": 40,
   "metadata": {},
   "outputs": [],
   "source": [
    "column_dict = dict(zip(surv_rating.columns,new_colnames.tolist()))\n",
    "survey_fine2.rename(columns=column_dict, inplace=True)"
   ]
  },
  {
   "cell_type": "code",
   "execution_count": 41,
   "metadata": {},
   "outputs": [],
   "source": [
    "survey_fine2['catch_ratings'] = survey_fine2[survey_fine2.columns[survey_fine2.columns.str.contains('catch')]].mean(axis=1)"
   ]
  },
  {
   "cell_type": "code",
   "execution_count": 42,
   "metadata": {},
   "outputs": [
    {
     "name": "stdout",
     "output_type": "stream",
     "text": [
      "['5b9b4cc406114100010660f0']\n"
     ]
    }
   ],
   "source": [
    "spammers = survey_fine2[survey_fine2['catch_ratings']>1.5].PROLIFIC_PID.tolist()\n",
    "print (spammers)"
   ]
  },
  {
   "cell_type": "code",
   "execution_count": 43,
   "metadata": {},
   "outputs": [],
   "source": [
    "# get a list of approved subs\n",
    "approved_subs = []\n",
    "for i in completed_subs:\n",
    "    if i not in spammers:\n",
    "        approved_subs.append(i)\n",
    "        \n",
    "#for i in approved_subs:\n",
    "#    print i"
   ]
  },
  {
   "cell_type": "code",
   "execution_count": 44,
   "metadata": {},
   "outputs": [
    {
     "data": {
      "text/plain": [
       "survey_type  survey_name\n",
       "fine         25             3\n",
       "             26             3\n",
       "             27             3\n",
       "             28             3\n",
       "             29             3\n",
       "             30             3\n",
       "             31             3\n",
       "             32             3\n",
       "             33             3\n",
       "             34             3\n",
       "             35             3\n",
       "             36             3\n",
       "Name: PROLIFIC_PID, dtype: int64"
      ]
     },
     "execution_count": 44,
     "metadata": {},
     "output_type": "execute_result"
    }
   ],
   "source": [
    "# rolling back qualtrics randomizer\n",
    "survey_fine2[survey_fine2.PROLIFIC_PID.isin(approved_subs)].groupby(['survey_type','survey_name']).PROLIFIC_PID.count()"
   ]
  },
  {
   "cell_type": "code",
   "execution_count": 45,
   "metadata": {},
   "outputs": [],
   "source": [
    "# get valid subjects\n",
    "valid_survey_fine2 = survey_fine2[survey_fine2.PROLIFIC_PID.isin(approved_subs)].reset_index(drop=True)\n",
    "# get useful cols\n",
    "valid_survey_fine2 = valid_survey_fine2[['PROLIFIC_PID','survey_type','survey_name']+list(column_dict.values())]\n",
    "# sort by survey\n",
    "valid_survey_fine2.sort_values(by=['survey_type','survey_name'], inplace=True)"
   ]
  },
  {
   "cell_type": "code",
   "execution_count": 46,
   "metadata": {},
   "outputs": [
    {
     "data": {
      "text/html": [
       "<div>\n",
       "<style scoped>\n",
       "    .dataframe tbody tr th:only-of-type {\n",
       "        vertical-align: middle;\n",
       "    }\n",
       "\n",
       "    .dataframe tbody tr th {\n",
       "        vertical-align: top;\n",
       "    }\n",
       "\n",
       "    .dataframe thead th {\n",
       "        text-align: right;\n",
       "    }\n",
       "</style>\n",
       "<table border=\"1\" class=\"dataframe\">\n",
       "  <thead>\n",
       "    <tr style=\"text-align: right;\">\n",
       "      <th></th>\n",
       "      <th>PROLIFIC_PID</th>\n",
       "      <th>survey_type</th>\n",
       "      <th>survey_name</th>\n",
       "      <th>30:after_IMG_410135.png</th>\n",
       "      <th>33:after_sun_ajgebwheenyurlit298.png</th>\n",
       "      <th>32:after_sun_aawvoklsoluipehz300.png</th>\n",
       "      <th>34:after_sun_atyasoydrjavyfux-073.png</th>\n",
       "      <th>30:after_img_09475.png</th>\n",
       "      <th>30:after_sun_awkhwzafhbdrlgkt188.png</th>\n",
       "      <th>33:after_sun_atyasoydrjavyfux-0165.png</th>\n",
       "      <th>...</th>\n",
       "      <th>27:after_IMG_7096185.png</th>\n",
       "      <th>34:after_img_095170.png</th>\n",
       "      <th>29:after_img_096224.png</th>\n",
       "      <th>35:after_IMG_021362.png</th>\n",
       "      <th>28:after_img_107105.png</th>\n",
       "      <th>27:after_IMG_4122140.png</th>\n",
       "      <th>31:after_IMG_06263.png</th>\n",
       "      <th>35:after_IMG_1581143.png</th>\n",
       "      <th>27:after_img_096187.png</th>\n",
       "      <th>30:fine_catch10.png</th>\n",
       "    </tr>\n",
       "  </thead>\n",
       "  <tbody>\n",
       "    <tr>\n",
       "      <th>3</th>\n",
       "      <td>55b8113efdf99b4633359b7b</td>\n",
       "      <td>fine</td>\n",
       "      <td>25</td>\n",
       "      <td>NaN</td>\n",
       "      <td>NaN</td>\n",
       "      <td>NaN</td>\n",
       "      <td>NaN</td>\n",
       "      <td>NaN</td>\n",
       "      <td>NaN</td>\n",
       "      <td>NaN</td>\n",
       "      <td>...</td>\n",
       "      <td>NaN</td>\n",
       "      <td>NaN</td>\n",
       "      <td>NaN</td>\n",
       "      <td>NaN</td>\n",
       "      <td>NaN</td>\n",
       "      <td>NaN</td>\n",
       "      <td>NaN</td>\n",
       "      <td>NaN</td>\n",
       "      <td>NaN</td>\n",
       "      <td>NaN</td>\n",
       "    </tr>\n",
       "    <tr>\n",
       "      <th>16</th>\n",
       "      <td>5c429ca9204d6700012f65f5</td>\n",
       "      <td>fine</td>\n",
       "      <td>25</td>\n",
       "      <td>NaN</td>\n",
       "      <td>NaN</td>\n",
       "      <td>NaN</td>\n",
       "      <td>NaN</td>\n",
       "      <td>NaN</td>\n",
       "      <td>NaN</td>\n",
       "      <td>NaN</td>\n",
       "      <td>...</td>\n",
       "      <td>NaN</td>\n",
       "      <td>NaN</td>\n",
       "      <td>NaN</td>\n",
       "      <td>NaN</td>\n",
       "      <td>NaN</td>\n",
       "      <td>NaN</td>\n",
       "      <td>NaN</td>\n",
       "      <td>NaN</td>\n",
       "      <td>NaN</td>\n",
       "      <td>NaN</td>\n",
       "    </tr>\n",
       "    <tr>\n",
       "      <th>22</th>\n",
       "      <td>5cf272137e2e1400157f2b3b</td>\n",
       "      <td>fine</td>\n",
       "      <td>25</td>\n",
       "      <td>NaN</td>\n",
       "      <td>NaN</td>\n",
       "      <td>NaN</td>\n",
       "      <td>NaN</td>\n",
       "      <td>NaN</td>\n",
       "      <td>NaN</td>\n",
       "      <td>NaN</td>\n",
       "      <td>...</td>\n",
       "      <td>NaN</td>\n",
       "      <td>NaN</td>\n",
       "      <td>NaN</td>\n",
       "      <td>NaN</td>\n",
       "      <td>NaN</td>\n",
       "      <td>NaN</td>\n",
       "      <td>NaN</td>\n",
       "      <td>NaN</td>\n",
       "      <td>NaN</td>\n",
       "      <td>NaN</td>\n",
       "    </tr>\n",
       "    <tr>\n",
       "      <th>6</th>\n",
       "      <td>5aa8ebf089de8200013f8c48</td>\n",
       "      <td>fine</td>\n",
       "      <td>26</td>\n",
       "      <td>NaN</td>\n",
       "      <td>NaN</td>\n",
       "      <td>NaN</td>\n",
       "      <td>NaN</td>\n",
       "      <td>NaN</td>\n",
       "      <td>NaN</td>\n",
       "      <td>NaN</td>\n",
       "      <td>...</td>\n",
       "      <td>NaN</td>\n",
       "      <td>NaN</td>\n",
       "      <td>NaN</td>\n",
       "      <td>NaN</td>\n",
       "      <td>NaN</td>\n",
       "      <td>NaN</td>\n",
       "      <td>NaN</td>\n",
       "      <td>NaN</td>\n",
       "      <td>NaN</td>\n",
       "      <td>NaN</td>\n",
       "    </tr>\n",
       "    <tr>\n",
       "      <th>26</th>\n",
       "      <td>57d6dd8d6598aa000199188b</td>\n",
       "      <td>fine</td>\n",
       "      <td>26</td>\n",
       "      <td>NaN</td>\n",
       "      <td>NaN</td>\n",
       "      <td>NaN</td>\n",
       "      <td>NaN</td>\n",
       "      <td>NaN</td>\n",
       "      <td>NaN</td>\n",
       "      <td>NaN</td>\n",
       "      <td>...</td>\n",
       "      <td>NaN</td>\n",
       "      <td>NaN</td>\n",
       "      <td>NaN</td>\n",
       "      <td>NaN</td>\n",
       "      <td>NaN</td>\n",
       "      <td>NaN</td>\n",
       "      <td>NaN</td>\n",
       "      <td>NaN</td>\n",
       "      <td>NaN</td>\n",
       "      <td>NaN</td>\n",
       "    </tr>\n",
       "  </tbody>\n",
       "</table>\n",
       "<p>5 rows × 3843 columns</p>\n",
       "</div>"
      ],
      "text/plain": [
       "                PROLIFIC_PID survey_type  survey_name  \\\n",
       "3   55b8113efdf99b4633359b7b        fine           25   \n",
       "16  5c429ca9204d6700012f65f5        fine           25   \n",
       "22  5cf272137e2e1400157f2b3b        fine           25   \n",
       "6   5aa8ebf089de8200013f8c48        fine           26   \n",
       "26  57d6dd8d6598aa000199188b        fine           26   \n",
       "\n",
       "    30:after_IMG_410135.png  33:after_sun_ajgebwheenyurlit298.png  \\\n",
       "3                       NaN                                   NaN   \n",
       "16                      NaN                                   NaN   \n",
       "22                      NaN                                   NaN   \n",
       "6                       NaN                                   NaN   \n",
       "26                      NaN                                   NaN   \n",
       "\n",
       "    32:after_sun_aawvoklsoluipehz300.png  \\\n",
       "3                                    NaN   \n",
       "16                                   NaN   \n",
       "22                                   NaN   \n",
       "6                                    NaN   \n",
       "26                                   NaN   \n",
       "\n",
       "    34:after_sun_atyasoydrjavyfux-073.png  30:after_img_09475.png  \\\n",
       "3                                     NaN                     NaN   \n",
       "16                                    NaN                     NaN   \n",
       "22                                    NaN                     NaN   \n",
       "6                                     NaN                     NaN   \n",
       "26                                    NaN                     NaN   \n",
       "\n",
       "    30:after_sun_awkhwzafhbdrlgkt188.png  \\\n",
       "3                                    NaN   \n",
       "16                                   NaN   \n",
       "22                                   NaN   \n",
       "6                                    NaN   \n",
       "26                                   NaN   \n",
       "\n",
       "    33:after_sun_atyasoydrjavyfux-0165.png  ...  27:after_IMG_7096185.png  \\\n",
       "3                                      NaN  ...                       NaN   \n",
       "16                                     NaN  ...                       NaN   \n",
       "22                                     NaN  ...                       NaN   \n",
       "6                                      NaN  ...                       NaN   \n",
       "26                                     NaN  ...                       NaN   \n",
       "\n",
       "    34:after_img_095170.png  29:after_img_096224.png  35:after_IMG_021362.png  \\\n",
       "3                       NaN                      NaN                      NaN   \n",
       "16                      NaN                      NaN                      NaN   \n",
       "22                      NaN                      NaN                      NaN   \n",
       "6                       NaN                      NaN                      NaN   \n",
       "26                      NaN                      NaN                      NaN   \n",
       "\n",
       "    28:after_img_107105.png  27:after_IMG_4122140.png  31:after_IMG_06263.png  \\\n",
       "3                       NaN                       NaN                     NaN   \n",
       "16                      NaN                       NaN                     NaN   \n",
       "22                      NaN                       NaN                     NaN   \n",
       "6                       NaN                       NaN                     NaN   \n",
       "26                      NaN                       NaN                     NaN   \n",
       "\n",
       "    35:after_IMG_1581143.png  27:after_img_096187.png  30:fine_catch10.png  \n",
       "3                        NaN                      NaN                  NaN  \n",
       "16                       NaN                      NaN                  NaN  \n",
       "22                       NaN                      NaN                  NaN  \n",
       "6                        NaN                      NaN                  NaN  \n",
       "26                       NaN                      NaN                  NaN  \n",
       "\n",
       "[5 rows x 3843 columns]"
      ]
     },
     "execution_count": 46,
     "metadata": {},
     "output_type": "execute_result"
    }
   ],
   "source": [
    "valid_survey_fine2.head()"
   ]
  },
  {
   "cell_type": "code",
   "execution_count": 47,
   "metadata": {},
   "outputs": [],
   "source": [
    "# merge the two fine surveys together\n",
    "valid_survey_fine = pd.merge(valid_survey_fine1, valid_survey_fine2,how='outer')"
   ]
  },
  {
   "cell_type": "code",
   "execution_count": 48,
   "metadata": {},
   "outputs": [],
   "source": [
    "# note that there are some cases in which a survey was completed 4 times\n",
    "# so we delete those extra subjects\n",
    "#extra_subs = valid_survey_fine.groupby(['survey_type','survey_name']).PROLIFIC_PID.nth(3).values\n",
    "#valid_survey_fine = valid_survey_fine[~valid_survey_fine.PROLIFIC_PID.isin(extra_subs)]\n",
    "\n",
    "#extra_subs = valid_survey_coarse.groupby(['survey_type','survey_name']).PROLIFIC_PID.nth(3).values\n",
    "#valid_survey_coarse = valid_survey_coarse[~valid_survey_coarse.PROLIFIC_PID.isin(extra_subs)]"
   ]
  },
  {
   "cell_type": "markdown",
   "metadata": {},
   "source": [
    "## Construct matrix for build_meaning_map.m"
   ]
  },
  {
   "cell_type": "code",
   "execution_count": 49,
   "metadata": {},
   "outputs": [],
   "source": [
    "import numpy as np\n",
    "from matplotlib import pyplot as plt\n",
    "%matplotlib inline"
   ]
  },
  {
   "cell_type": "code",
   "execution_count": 50,
   "metadata": {},
   "outputs": [],
   "source": [
    "def extract_ratings(df):\n",
    "    df_t = df.transpose()[3:]\n",
    "    rate1 = df_t.apply(lambda row: [x for x in row.dropna()][0],axis=1)\n",
    "    rate2 = df_t.apply(lambda row: [x for x in row.dropna()][1],axis=1)\n",
    "    rate3 = df_t.apply(lambda row: [x for x in row.dropna()][2],axis=1)\n",
    "    result = pd.DataFrame({'rate1':rate1,\n",
    "                         'rate2':rate2,\n",
    "                         'rate3':rate3})\n",
    "    result.reset_index(inplace=True)\n",
    "    result[['survey_name','patch']] = result['index'].str.split(':', expand=True)\n",
    "    result.survey_name = result.survey_name.astype('int64')\n",
    "    result = result.drop('index',axis=1)\n",
    "    return result"
   ]
  },
  {
   "cell_type": "code",
   "execution_count": 51,
   "metadata": {},
   "outputs": [],
   "source": [
    "coarse_ratings = extract_ratings(valid_survey_coarse)\n",
    "coarse_ratings['survey_type'] = 'coarse'"
   ]
  },
  {
   "cell_type": "code",
   "execution_count": 52,
   "metadata": {},
   "outputs": [],
   "source": [
    "fine_ratings = extract_ratings(valid_survey_fine)\n",
    "fine_ratings['survey_type'] = 'fine'"
   ]
  },
  {
   "cell_type": "code",
   "execution_count": 53,
   "metadata": {},
   "outputs": [],
   "source": [
    "ratings = fine_ratings.append(coarse_ratings).reset_index(drop=True)"
   ]
  },
  {
   "cell_type": "code",
   "execution_count": 54,
   "metadata": {},
   "outputs": [],
   "source": [
    "ratings = patch_assign_df.merge(ratings, on=['survey_type','survey_name','patch'],how='inner')"
   ]
  },
  {
   "cell_type": "code",
   "execution_count": 55,
   "metadata": {},
   "outputs": [],
   "source": [
    "# drop catch trials\n",
    "ratings = ratings.dropna().reset_index(drop=True)"
   ]
  },
  {
   "cell_type": "code",
   "execution_count": 56,
   "metadata": {},
   "outputs": [],
   "source": [
    "ratings.sort_values(by=['survey_type','scene_name','patch_id'], inplace=True)"
   ]
  },
  {
   "cell_type": "code",
   "execution_count": 57,
   "metadata": {},
   "outputs": [
    {
     "data": {
      "text/html": [
       "<div>\n",
       "<style scoped>\n",
       "    .dataframe tbody tr th:only-of-type {\n",
       "        vertical-align: middle;\n",
       "    }\n",
       "\n",
       "    .dataframe tbody tr th {\n",
       "        vertical-align: top;\n",
       "    }\n",
       "\n",
       "    .dataframe thead th {\n",
       "        text-align: right;\n",
       "    }\n",
       "</style>\n",
       "<table border=\"1\" class=\"dataframe\">\n",
       "  <thead>\n",
       "    <tr style=\"text-align: right;\">\n",
       "      <th></th>\n",
       "      <th>idx</th>\n",
       "      <th>patch</th>\n",
       "      <th>patch_id</th>\n",
       "      <th>scene_name</th>\n",
       "      <th>survey_name</th>\n",
       "      <th>survey_type</th>\n",
       "      <th>rate1</th>\n",
       "      <th>rate2</th>\n",
       "      <th>rate3</th>\n",
       "    </tr>\n",
       "  </thead>\n",
       "  <tbody>\n",
       "    <tr>\n",
       "      <th>2693</th>\n",
       "      <td>312</td>\n",
       "      <td>after_IMG_02131.png</td>\n",
       "      <td>1.0</td>\n",
       "      <td>after_IMG_0213</td>\n",
       "      <td>9</td>\n",
       "      <td>coarse</td>\n",
       "      <td>1.0</td>\n",
       "      <td>1.0</td>\n",
       "      <td>1.0</td>\n",
       "    </tr>\n",
       "    <tr>\n",
       "      <th>355</th>\n",
       "      <td>59</td>\n",
       "      <td>after_IMG_02132.png</td>\n",
       "      <td>2.0</td>\n",
       "      <td>after_IMG_0213</td>\n",
       "      <td>2</td>\n",
       "      <td>coarse</td>\n",
       "      <td>3.0</td>\n",
       "      <td>3.0</td>\n",
       "      <td>2.0</td>\n",
       "    </tr>\n",
       "    <tr>\n",
       "      <th>669</th>\n",
       "      <td>73</td>\n",
       "      <td>after_IMG_02133.png</td>\n",
       "      <td>3.0</td>\n",
       "      <td>after_IMG_0213</td>\n",
       "      <td>3</td>\n",
       "      <td>coarse</td>\n",
       "      <td>2.0</td>\n",
       "      <td>2.0</td>\n",
       "      <td>1.0</td>\n",
       "    </tr>\n",
       "    <tr>\n",
       "      <th>1413</th>\n",
       "      <td>229</td>\n",
       "      <td>after_IMG_02134.png</td>\n",
       "      <td>4.0</td>\n",
       "      <td>after_IMG_0213</td>\n",
       "      <td>5</td>\n",
       "      <td>coarse</td>\n",
       "      <td>3.0</td>\n",
       "      <td>1.0</td>\n",
       "      <td>1.0</td>\n",
       "    </tr>\n",
       "    <tr>\n",
       "      <th>2269</th>\n",
       "      <td>180</td>\n",
       "      <td>after_IMG_02135.png</td>\n",
       "      <td>5.0</td>\n",
       "      <td>after_IMG_0213</td>\n",
       "      <td>8</td>\n",
       "      <td>coarse</td>\n",
       "      <td>3.0</td>\n",
       "      <td>5.0</td>\n",
       "      <td>4.0</td>\n",
       "    </tr>\n",
       "  </tbody>\n",
       "</table>\n",
       "</div>"
      ],
      "text/plain": [
       "      idx                patch  patch_id      scene_name  survey_name  \\\n",
       "2693  312  after_IMG_02131.png       1.0  after_IMG_0213            9   \n",
       "355    59  after_IMG_02132.png       2.0  after_IMG_0213            2   \n",
       "669    73  after_IMG_02133.png       3.0  after_IMG_0213            3   \n",
       "1413  229  after_IMG_02134.png       4.0  after_IMG_0213            5   \n",
       "2269  180  after_IMG_02135.png       5.0  after_IMG_0213            8   \n",
       "\n",
       "     survey_type  rate1  rate2  rate3  \n",
       "2693      coarse    1.0    1.0    1.0  \n",
       "355       coarse    3.0    3.0    2.0  \n",
       "669       coarse    2.0    2.0    1.0  \n",
       "1413      coarse    3.0    1.0    1.0  \n",
       "2269      coarse    3.0    5.0    4.0  "
      ]
     },
     "execution_count": 57,
     "metadata": {},
     "output_type": "execute_result"
    }
   ],
   "source": [
    "ratings.head()"
   ]
  },
  {
   "cell_type": "code",
   "execution_count": 58,
   "metadata": {},
   "outputs": [],
   "source": [
    "# load matlab mat that store the masks\n",
    "import scipy.io as sio\n",
    "coarse_masks = sio.loadmat('data/coarse_masks.mat')['masks_all'].astype('float')\n",
    "fine_masks = sio.loadmat('data/fine_masks.mat')['masks_all'].astype('float')\n",
    "#plt.matshow(coarse_masks[:,:,0]) # plot the first mask"
   ]
  },
  {
   "cell_type": "code",
   "execution_count": 184,
   "metadata": {},
   "outputs": [],
   "source": [
    "def elementwise_concat(A, B):\n",
    "    if B == 0:\n",
    "        return A\n",
    "    elif isinstance(A, tuple):\n",
    "        return A+tuple([B])\n",
    "    else : # for the first concat\n",
    "        return tuple([B])\n",
    "elementwise_concat = np.vectorize(elementwise_concat,otypes=[object])"
   ]
  },
  {
   "cell_type": "code",
   "execution_count": 203,
   "metadata": {},
   "outputs": [
    {
     "name": "stdout",
     "output_type": "stream",
     "text": [
      "after_IMG_0213\n",
      "after_IMG_0626\n",
      "after_IMG_1333\n",
      "after_IMG_1581\n",
      "after_IMG_2350\n",
      "after_IMG_3124\n",
      "after_IMG_4101\n",
      "after_IMG_4122\n",
      "after_IMG_7096\n",
      "after_dsc07169\n",
      "after_img_025\n",
      "after_img_089\n",
      "after_img_094\n",
      "after_img_095\n",
      "after_img_096\n",
      "after_img_100\n",
      "after_img_107\n",
      "after_img_111\n",
      "after_img_114\n",
      "after_img_125\n",
      "after_sun_aafqetztbkmzxsif\n",
      "after_sun_aalbxgjwijppgzjr\n",
      "after_sun_aawvoklsoluipehz\n",
      "after_sun_abzaicgobhjswlxg\n",
      "after_sun_aegixgtgmmvqheiw-0\n",
      "after_sun_ahvszpwjtodgwusx\n",
      "after_sun_ajgebwheenyurlit\n",
      "after_sun_ajzsgfiolbbxlgxc\n",
      "after_sun_apueeecjfdprzyjl\n",
      "after_sun_asrhohyqzajswxsa\n",
      "after_sun_atyasoydrjavyfux-0\n",
      "after_sun_aweoztuheglqxpoe-0\n",
      "after_sun_awkhwzafhbdrlgkt\n",
      "after_sun_awqxiwmqccwmgejq\n",
      "after_sun_axarcshsnqsefemx\n",
      "after_sun_axftyltjljtworuj\n"
     ]
    }
   ],
   "source": [
    "for scene_name in ratings.scene_name.unique():\n",
    "    # select the current picture\n",
    "    ratings_pic = ratings[(ratings.survey_type=='coarse') & (ratings.scene_name==scene_name)]\n",
    "    patch_id_max = int(ratings_pic.patch_id.max())\n",
    "    # create an empty matrix to store the output\n",
    "    rating_mat_coarse = np.empty((768,1024))\n",
    "    print scene_name\n",
    "    # iterate through patch_ids to creat rating maps\n",
    "    for i in range(0,patch_id_max):\n",
    "        # rater 1\n",
    "        rater1_score = int(ratings_pic[ratings_pic.patch_id==i+1].rate1)\n",
    "        rater1_matrix = coarse_masks[:,:,i]*rater1_score\n",
    "        rating_mat_coarse = elementwise_concat(rating_mat_coarse, rater1_matrix)\n",
    "        # rater 2\n",
    "        rater2_score = int(ratings_pic[ratings_pic.patch_id==i+1].rate2)\n",
    "        rater2_matrix = coarse_masks[:,:,i]*rater2_score\n",
    "        rating_mat_coarse = elementwise_concat(rating_mat_coarse, rater2_matrix)\n",
    "        # rater 3\n",
    "        rater3_score = int(ratings_pic[ratings_pic.patch_id==i+1].rate3)\n",
    "        rater3_matrix = coarse_masks[:,:,i]*rater3_score\n",
    "        rating_mat_coarse = elementwise_concat(rating_mat_coarse, rater3_matrix)\n",
    "\n",
    "    # select the current picture\n",
    "    ratings_pic = ratings[(ratings.survey_type=='fine') & (ratings.scene_name==scene_name)]\n",
    "    patch_id_max = int(ratings_pic.patch_id.max())\n",
    "    # create an empty matrix to store the output\n",
    "    rating_mat_fine = np.empty((768,1024))\n",
    "    # iterate through patch_ids to creat rating maps\n",
    "    for i in range(0,patch_id_max):\n",
    "        # rater 1\n",
    "        rater1_score = int(ratings_pic[ratings_pic.patch_id==i+1].rate1)\n",
    "        rater1_matrix = fine_masks[:,:,i]*rater1_score\n",
    "        rating_mat_fine = elementwise_concat(rating_mat_fine, rater1_matrix)\n",
    "        # rater 2\n",
    "        rater2_score = int(ratings_pic[ratings_pic.patch_id==i+1].rate2)\n",
    "        rater2_matrix = fine_masks[:,:,i]*rater2_score\n",
    "        rating_mat_fine = elementwise_concat(rating_mat_fine, rater2_matrix)\n",
    "        # rater 3\n",
    "        rater3_score = int(ratings_pic[ratings_pic.patch_id==i+1].rate3)\n",
    "        rater3_matrix = fine_masks[:,:,i]*rater3_score\n",
    "        rating_mat_fine = elementwise_concat(rating_mat_fine, rater3_matrix)\n",
    "        \n",
    "    rating_mat_all = np.dstack((rating_mat_coarse, rating_mat_fine))\n",
    "    sio.savemat('data/rating_matrices/'+scene_name+'.mat',{'rating_matrix':rating_mat_all}, do_compression=True)"
   ]
  }
 ],
 "metadata": {
  "kernelspec": {
   "display_name": "Python 2",
   "language": "python",
   "name": "python2"
  },
  "language_info": {
   "codemirror_mode": {
    "name": "ipython",
    "version": 2
   },
   "file_extension": ".py",
   "mimetype": "text/x-python",
   "name": "python",
   "nbconvert_exporter": "python",
   "pygments_lexer": "ipython2",
   "version": "2.7.17"
  }
 },
 "nbformat": 4,
 "nbformat_minor": 2
}
